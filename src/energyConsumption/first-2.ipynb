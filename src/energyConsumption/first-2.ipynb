{
 "cells": [
  {
   "cell_type": "code",
   "execution_count": 1,
   "id": "8de9e849-6a8b-4f9d-ad7d-46b14ad37401",
   "metadata": {},
   "outputs": [],
   "source": [
    "%load_ext autoreload\n",
    "%autoreload 2\n",
    "from utils import feature_eng, visualization\n",
    "# plot the reward function with plotly as line plot\n",
    "import plotly.io as pio\n",
    "import numpy as np\n",
    "import plotly.graph_objs as go\n",
    "import pmdarima as pm\n",
    "from pmdarima.model_selection import train_test_split\n",
    "import numpy as np\n",
    "import matplotlib.pyplot as plt\n",
    "from plotly.subplots import make_subplots\n",
    "import pandas as pd\n",
    "\n",
    "from utils import eval"
   ]
  },
  {
   "cell_type": "code",
   "execution_count": 2,
   "id": "5f8de958-d774-4771-b07f-57d56d111d2f",
   "metadata": {
    "editable": true,
    "slideshow": {
     "slide_type": ""
    },
    "tags": []
   },
   "outputs": [
    {
     "data": {
      "text/html": [
       "<iframe\n",
       "    scrolling=\"no\"\n",
       "    width=\"100%\"\n",
       "    height=\"545px\"\n",
       "    src=\"iframe_figures/figure_2.html\"\n",
       "    frameborder=\"0\"\n",
       "    allowfullscreen\n",
       "></iframe>\n"
      ]
     },
     "metadata": {},
     "output_type": "display_data"
    }
   ],
   "source": [
    "\n",
    "\n",
    "pio.renderers.default = 'iframe'\n",
    "\n",
    "measurements = feature_eng.get_data_df(\"train\", \"B\")\n",
    "fig = visualization.plot_substation_measurements(measurements, \"B\")\n",
    "fig.show()"
   ]
  },
  {
   "cell_type": "code",
   "execution_count": 3,
   "id": "141870f6-2773-4243-b686-8fd96b8b51ee",
   "metadata": {},
   "outputs": [
    {
     "data": {
      "text/html": [
       "<iframe\n",
       "    scrolling=\"no\"\n",
       "    width=\"100%\"\n",
       "    height=\"545px\"\n",
       "    src=\"iframe_figures/figure_3.html\"\n",
       "    frameborder=\"0\"\n",
       "    allowfullscreen\n",
       "></iframe>\n"
      ]
     },
     "metadata": {},
     "output_type": "display_data"
    }
   ],
   "source": [
    "fig = visualization.plot_production(measurements, ['ZLQZLQSPHSDL_VNUUIST'])\n",
    "fig.show()"
   ]
  },
  {
   "cell_type": "code",
   "execution_count": 62,
   "id": "d2602b89-a4fb-435f-8c21-1220938eda24",
   "metadata": {
    "editable": true,
    "slideshow": {
     "slide_type": ""
    },
    "tags": []
   },
   "outputs": [
    {
     "name": "stderr",
     "output_type": "stream",
     "text": [
      "C:\\_dev\\edh2023\\.venv\\Lib\\site-packages\\statsmodels\\base\\model.py:607: ConvergenceWarning:\n",
      "\n",
      "Maximum Likelihood optimization failed to converge. Check mle_retvals\n",
      "\n"
     ]
    },
    {
     "name": "stdout",
     "output_type": "stream",
     "text": [
      "fertig\n"
     ]
    }
   ],
   "source": [
    "ist_data = measurements['ZLQZLQSPHSDL_VNUUIST']\n",
    "\n",
    "cut_off = 4 * 24 * 8 + 9\n",
    "\n",
    "train, test = train_test_split(ist_data[:-cut_off].values, train_size=len(ist_data[:-cut_off])-1)\n",
    "\n",
    "model = pm.ARIMA(order=(2, 1, 2), seasonal_order=(1, 0, 1, 4))\n",
    "print(\"fertig\")\n"
   ]
  },
  {
   "cell_type": "code",
   "execution_count": 77,
   "id": "49b08e79-c1f3-48de-a4c1-8dc1e50f2b77",
   "metadata": {},
   "outputs": [
    {
     "name": "stderr",
     "output_type": "stream",
     "text": [
      "C:\\_dev\\edh2023\\.venv\\Lib\\site-packages\\statsmodels\\base\\model.py:607: ConvergenceWarning:\n",
      "\n",
      "Maximum Likelihood optimization failed to converge. Check mle_retvals\n",
      "\n"
     ]
    },
    {
     "name": "stdout",
     "output_type": "stream",
     "text": [
      "fertig\n"
     ]
    }
   ],
   "source": [
    "train, test = train_test_split(ist_data[:-cut_off].values, train_size=len(ist_data[:-cut_off])-1)\n",
    "model_fit = model.fit(y=train)\n",
    "preds = model_fit.predict(time)\n",
    "print(\"fertig\")"
   ]
  },
  {
   "cell_type": "code",
   "execution_count": 78,
   "id": "353dd326-4174-4e94-9cd7-d433a61f5878",
   "metadata": {},
   "outputs": [
    {
     "name": "stderr",
     "output_type": "stream",
     "text": [
      "C:\\_dev\\edh2023\\.venv\\Lib\\site-packages\\statsmodels\\base\\model.py:607: ConvergenceWarning:\n",
      "\n",
      "Maximum Likelihood optimization failed to converge. Check mle_retvals\n",
      "\n"
     ]
    },
    {
     "name": "stdout",
     "output_type": "stream",
     "text": [
      "fertig\n"
     ]
    }
   ],
   "source": [
    "# measurement points are separated by 15 minutes. *4 to get to one hour.\n",
    "time = 4 * 4\n",
    "train, test = train_test_split(ist_data[:-(cut_off-1)].values, train_size=len(ist_data[:-(cut_off-1)])-1)\n",
    "model_fit = model.fit(y=train)\n",
    "preds2 = model_fit.predict(time)\n",
    "print(\"fertig\")"
   ]
  },
  {
   "cell_type": "code",
   "execution_count": 79,
   "id": "b94b0dd9-ca5e-46db-8806-85b276f28856",
   "metadata": {},
   "outputs": [
    {
     "name": "stderr",
     "output_type": "stream",
     "text": [
      "C:\\_dev\\edh2023\\.venv\\Lib\\site-packages\\statsmodels\\base\\model.py:607: ConvergenceWarning:\n",
      "\n",
      "Maximum Likelihood optimization failed to converge. Check mle_retvals\n",
      "\n"
     ]
    },
    {
     "name": "stdout",
     "output_type": "stream",
     "text": [
      "fertig\n"
     ]
    }
   ],
   "source": [
    "train, test = train_test_split(ist_data[:-(cut_off-2)].values, train_size=len(ist_data[:-(cut_off-2)])-1)\n",
    "model_fit = model.fit(y=train)\n",
    "preds3 = model_fit.predict(time)\n",
    "print(\"fertig\")"
   ]
  },
  {
   "cell_type": "code",
   "execution_count": 82,
   "id": "900d9429-bb79-4554-9515-85c71aab642d",
   "metadata": {
    "editable": true,
    "slideshow": {
     "slide_type": ""
    },
    "tags": []
   },
   "outputs": [
    {
     "name": "stdout",
     "output_type": "stream",
     "text": [
      "34941\n",
      "16\n",
      "2022-01-01 01:00:00    239.816895\n",
      "2022-01-01 01:15:00    239.816895\n",
      "2022-01-01 01:30:00    239.868171\n",
      "2022-01-01 01:45:00    240.080566\n",
      "2022-01-01 02:00:00    240.080566\n",
      "                          ...    \n",
      "2022-12-30 23:00:00    239.553207\n",
      "2022-12-30 23:15:00    240.323946\n",
      "2022-12-30 23:30:00    240.476089\n",
      "2022-12-30 23:45:00    240.476089\n",
      "2022-12-31 00:00:00    240.476089\n",
      "Freq: 15T, Name: ZLQZLQSPHSDL_VNUUIST, Length: 34941, dtype: float64\n",
      "2022-12-22 21:45:00    238.747436\n",
      "2022-12-22 22:00:00    238.732614\n",
      "2022-12-22 22:15:00    238.718844\n",
      "2022-12-22 22:30:00    238.706041\n",
      "2022-12-22 22:45:00    238.694127\n",
      "2022-12-22 23:00:00    238.683064\n",
      "2022-12-22 23:15:00    238.672786\n",
      "2022-12-22 23:30:00    238.663237\n",
      "2022-12-22 23:45:00    238.654364\n",
      "2022-12-23 00:00:00    238.646119\n",
      "2022-12-23 00:15:00    238.638457\n",
      "2022-12-23 00:30:00    238.631336\n",
      "2022-12-23 00:45:00    238.624717\n",
      "2022-12-23 01:00:00    238.618564\n",
      "2022-12-23 01:15:00    238.612844\n",
      "2022-12-23 01:30:00    238.607525\n",
      "Freq: 15T, dtype: float64\n"
     ]
    },
    {
     "data": {
      "text/html": [
       "<iframe\n",
       "    scrolling=\"no\"\n",
       "    width=\"100%\"\n",
       "    height=\"545px\"\n",
       "    src=\"iframe_figures/figure_82.html\"\n",
       "    frameborder=\"0\"\n",
       "    allowfullscreen\n",
       "></iframe>\n"
      ]
     },
     "metadata": {},
     "output_type": "display_data"
    }
   ],
   "source": [
    "print(len(ist_data))\n",
    "print(len(preds))\n",
    "\n",
    "last_element = ist_data.index[len(ist_data)-cut_off-1]\n",
    "predicted_data = pd.Series(preds, index=pd.date_range(last_element, periods=(time), freq='15T'))\n",
    "last_element = ist_data.index[len(ist_data)-cut_off]\n",
    "predicted_data2 = pd.Series(preds2, index=pd.date_range(last_element, periods=(time), freq='15T'))\n",
    "last_element = ist_data.index[len(ist_data)-cut_off+1]\n",
    "predicted_data3 = pd.Series(preds3, index=pd.date_range(last_element, periods=(time), freq='15T'))\n",
    "last_element = ist_data.index[len(ist_data)-cut_off+2]\n",
    "\n",
    "print(ist_data)\n",
    "print(predicted_data)\n",
    "\n",
    "fig = go.Figure(data=[go.Scatter(x=predicted_data.index, y=predicted_data, name=\"PREDICT\"),\n",
    "                      go.Scatter(x=predicted_data2.index, y=predicted_data2, name=\"PREDICT2\"),\n",
    "                      go.Scatter(x=predicted_data3.index, y=predicted_data3, name=\"PREDICT3\"),\n",
    "                      go.Scatter(x=predicted_data4.index, y=predicted_data4, name=\"PREDICT4\"),\n",
    "                      go.Scatter(x=predicted_data5.index, y=predicted_data5, name=\"PREDICT5\"),\n",
    "                      go.Scatter(x=ist_data.index, y=ist_data, name=\"IST\")])\n",
    "\n",
    "# Update the layout\n",
    "fig.update_layout(title=\"Nice\", xaxis_title='Date', yaxis_title='kV')\n",
    "fig.show()"
   ]
  },
  {
   "cell_type": "code",
   "execution_count": null,
   "id": "4e7112df-0f50-44c9-b012-001d66355bcc",
   "metadata": {},
   "outputs": [],
   "source": []
  }
 ],
 "metadata": {
  "kernelspec": {
   "display_name": "edh_venv",
   "language": "python",
   "name": "edh_venv"
  },
  "language_info": {
   "codemirror_mode": {
    "name": "ipython",
    "version": 3
   },
   "file_extension": ".py",
   "mimetype": "text/x-python",
   "name": "python",
   "nbconvert_exporter": "python",
   "pygments_lexer": "ipython3",
   "version": "3.11.5"
  }
 },
 "nbformat": 4,
 "nbformat_minor": 5
}
