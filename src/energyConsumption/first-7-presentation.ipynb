{
 "cells": [
  {
   "cell_type": "code",
   "execution_count": 21,
   "id": "8de9e849-6a8b-4f9d-ad7d-46b14ad37401",
   "metadata": {},
   "outputs": [
    {
     "name": "stdout",
     "output_type": "stream",
     "text": [
      "The autoreload extension is already loaded. To reload it, use:\n",
      "  %reload_ext autoreload\n"
     ]
    }
   ],
   "source": [
    "%load_ext autoreload\n",
    "%autoreload 2\n",
    "from utils import feature_eng, visualization\n",
    "# plot the reward function with plotly as line plot\n",
    "import plotly.io as pio\n",
    "import numpy as np\n",
    "import plotly.graph_objs as go\n",
    "import pmdarima as pm\n",
    "from pmdarima.model_selection import train_test_split\n",
    "import numpy as np\n",
    "import matplotlib.pyplot as plt\n",
    "from plotly.subplots import make_subplots\n",
    "import pandas as pd\n",
    "\n",
    "from utils import eval"
   ]
  },
  {
   "cell_type": "code",
   "execution_count": 2,
   "id": "5f8de958-d774-4771-b07f-57d56d111d2f",
   "metadata": {
    "editable": true,
    "slideshow": {
     "slide_type": ""
    },
    "tags": []
   },
   "outputs": [
    {
     "data": {
      "text/html": [
       "<iframe\n",
       "    scrolling=\"no\"\n",
       "    width=\"100%\"\n",
       "    height=\"545px\"\n",
       "    src=\"iframe_figures/figure_2.html\"\n",
       "    frameborder=\"0\"\n",
       "    allowfullscreen\n",
       "></iframe>\n"
      ]
     },
     "metadata": {},
     "output_type": "display_data"
    }
   ],
   "source": [
    "pio.renderers.default = 'iframe'\n",
    "\n",
    "measurements = feature_eng.get_data_df(\"train\", \"B\")\n",
    "fig = visualization.plot_substation_measurements(measurements, \"B\")\n",
    "fig.show()"
   ]
  },
  {
   "cell_type": "code",
   "execution_count": 3,
   "id": "141870f6-2773-4243-b686-8fd96b8b51ee",
   "metadata": {},
   "outputs": [
    {
     "data": {
      "text/html": [
       "<iframe\n",
       "    scrolling=\"no\"\n",
       "    width=\"100%\"\n",
       "    height=\"545px\"\n",
       "    src=\"iframe_figures/figure_3.html\"\n",
       "    frameborder=\"0\"\n",
       "    allowfullscreen\n",
       "></iframe>\n"
      ]
     },
     "metadata": {},
     "output_type": "display_data"
    }
   ],
   "source": [
    "fig = visualization.plot_production(measurements, ['ZLQZLQSPHSDL_VNUUIST'])\n",
    "fig.show()"
   ]
  },
  {
   "cell_type": "code",
   "execution_count": 4,
   "id": "d2602b89-a4fb-435f-8c21-1220938eda24",
   "metadata": {
    "editable": true,
    "slideshow": {
     "slide_type": ""
    },
    "tags": []
   },
   "outputs": [
    {
     "name": "stdout",
     "output_type": "stream",
     "text": [
      "fertig\n"
     ]
    }
   ],
   "source": [
    "is_data = measurements['ZLQZLQSPHSDL_VNUUIST']\n",
    "target_data = measurements['ZLQZLQSPHSDL_VNUUSOL']\n",
    "shunt_reactor = measurements['ZLQZLQ110KOMDROQ']\n",
    "station_b_val = feature_eng.add_temporal_features(feature_eng.get_data_df(\"val\", \"B\"))\n",
    "\n",
    "reactor_border = 20\n",
    "\n",
    "train, test = train_test_split(is_data.values, train_size=len(is_data)-1)\n",
    "\n",
    "model = pm.ARIMA(order=(2, 1, 2), seasonal_order=(1, 0, 1, 4))\n",
    "print(\"fertig\")\n"
   ]
  },
  {
   "cell_type": "code",
   "execution_count": 8,
   "id": "49b08e79-c1f3-48de-a4c1-8dc1e50f2b77",
   "metadata": {},
   "outputs": [
    {
     "name": "stdout",
     "output_type": "stream",
     "text": [
      "34940\n",
      "34940\n"
     ]
    },
    {
     "name": "stderr",
     "output_type": "stream",
     "text": [
      "C:\\_dev\\edh2023\\.venv\\Lib\\site-packages\\statsmodels\\base\\model.py:607: ConvergenceWarning:\n",
      "\n",
      "Maximum Likelihood optimization failed to converge. Check mle_retvals\n",
      "\n"
     ]
    },
    {
     "name": "stdout",
     "output_type": "stream",
     "text": [
      "fertig\n"
     ]
    }
   ],
   "source": [
    "# measurement points are separated by 15 minutes. 4 to get to one hour.\n",
    "time = 4\n",
    "loops = 1\n",
    "\n",
    "predictions = []\n",
    "train, test = train_test_split(is_data.values, train_size=len(is_data)-1)\n",
    "print(len(train))\n",
    "print(len(pd.DataFrame(shunt_reactor[:-1])))\n",
    "model_fit = model.fit(y=train, X=pd.DataFrame(shunt_reactor[:-1]))\n",
    "print(\"fertig\")"
   ]
  },
  {
   "cell_type": "code",
   "execution_count": 85,
   "id": "9e873d73-c63a-4e9f-95d6-26539e9de97e",
   "metadata": {},
   "outputs": [
    {
     "name": "stdout",
     "output_type": "stream",
     "text": [
      "28\n"
     ]
    }
   ],
   "source": [
    "shunt_reactor_decisions = station_b_val['ZLQZLQ110KOMDROQ']\n",
    "\n",
    "number_of_switches = 0\n",
    "\n",
    "#for i in range(len(station_b_val)-1):\n",
    "for i in range(len(shunt_reactor_decisions)):\n",
    "    \"\"\"\n",
    "    if i == 0:\n",
    "        model_fit.update(y=[train[i]], X=pd.DataFrame([shunt_reactor[-1]]))\n",
    "    else:\n",
    "        model_fit.update(y=[train[i]], X=pd.DataFrame([shunt_reactor_decisions[i-1]]))\n",
    "    \n",
    "    # Simulate with shunt reactor running\n",
    "    preds_reactor_on = model_fit.predict(time, pd.DataFrame(np.full(time, 90)))\n",
    "\n",
    "    # Simulate with shunt reactor off\n",
    "    preds_reactor_off = model_fit.predict(time, pd.DataFrame(np.full(time, 0)))\n",
    "    print(shunt_reactor_decisions[i])\n",
    "    print(target_data[i])\n",
    "    print(train[i])\n",
    "    \"\"\"\n",
    "\n",
    "    if i == 0:\n",
    "        previous_state = shunt_reactor[-1]\n",
    "    else:\n",
    "        previous_state = shunt_reactor_decisions[i-1]\n",
    "        \n",
    "    if i == 0 or (number_of_switches + 1) / (i*4*24) < 2:\n",
    "        if train[i] - target_data[i] > 2:\n",
    "            # current voltage is too high -> start shunt reactor\n",
    "            shunt_reactor_decisions[i] = 90\n",
    "            if previous_state < 1:\n",
    "                number_of_switches += 1\n",
    "        elif train[i] - target_data[i] < -2:\n",
    "            # current voltage is too low -> stop shunt reasctor\n",
    "            shunt_reactor_decisions[i] = 0\n",
    "            if previous_state > 1:\n",
    "                number_of_switches += 1\n",
    "        else:\n",
    "            shunt_reactor_decisions[i] = shunt_reactor_decisions[i-1]\n",
    "    elif i != 0:\n",
    "        shunt_reactor_decisions[i] = shunt_reactor_decisions[i-1]\n",
    "    #for j in range(3):\n",
    "        #shunt_reactor_decisions[i+j+1] = shunt_reactor_decisions[i]\n",
    "\n",
    "print(number_of_switches)"
   ]
  },
  {
   "cell_type": "code",
   "execution_count": 86,
   "id": "900d9429-bb79-4554-9515-85c71aab642d",
   "metadata": {
    "editable": true,
    "slideshow": {
     "slide_type": ""
    },
    "tags": []
   },
   "outputs": [
    {
     "data": {
      "text/html": [
       "<iframe\n",
       "    scrolling=\"no\"\n",
       "    width=\"100%\"\n",
       "    height=\"545px\"\n",
       "    src=\"iframe_figures/figure_86.html\"\n",
       "    frameborder=\"0\"\n",
       "    allowfullscreen\n",
       "></iframe>\n"
      ]
     },
     "metadata": {},
     "output_type": "display_data"
    },
    {
     "name": "stdout",
     "output_type": "stream",
     "text": [
      "Reward achieved by operating the shunt reactor as in the validation dataset: 22004.4.\n"
     ]
    },
    {
     "data": {
      "text/html": [
       "<iframe\n",
       "    scrolling=\"no\"\n",
       "    width=\"100%\"\n",
       "    height=\"545px\"\n",
       "    src=\"iframe_figures/figure_86.html\"\n",
       "    frameborder=\"0\"\n",
       "    allowfullscreen\n",
       "></iframe>\n"
      ]
     },
     "metadata": {},
     "output_type": "display_data"
    }
   ],
   "source": [
    "last_element = is_data.index[-1]\n",
    "predicted_data_on = pd.Series(preds_reactor_on, index=pd.date_range(last_element, periods=(time), freq='15T'))\n",
    "predicted_data_off = pd.Series(preds_reactor_off, index=pd.date_range(last_element, periods=(time), freq='15T'))\n",
    "\n",
    "fig1 = visualization.plot_substation_measurements(station_b_val, \"B\")\n",
    "fig1.show()\n",
    "\n",
    "# calculate reward points achieved for the validation dataset\n",
    "reward_base = eval.reward_sum(\n",
    "    station_b_val[\"ZLQZLQSPHSDL_VNUUIST\"].values - station_b_val[\"ZLQZLQSPHSDL_VNUUSOL\"].values, \n",
    "    (station_b_val['ZLQZLQ110KOMDROQ'] > 1).values, \n",
    "    weighing_factors=np.ones(station_b_val.shape[0]))\n",
    "print(f'Reward achieved by operating the shunt reactor as in the validation dataset: {reward_base}.')\n",
    "\n",
    "scatters = []\n",
    "scatters.append(go.Scatter(x=is_data.index, y=is_data, name=\"IST\"))\n",
    "\n",
    "for i in range(loops):\n",
    "    scatters.append(go.Scatter(x=predicted_data_on.index, y=predicted_data_on, name=\"PREDICT ON \"+str(i)))\n",
    "    scatters.append(go.Scatter(x=predicted_data_off.index, y=predicted_data_off, name=\"PREDICT OFF \"+str(i)))\n",
    "\n",
    "fig = go.Figure(data=scatters)\n",
    "\n",
    "# Update the layout\n",
    "fig.update_layout(title=\"Nice\", xaxis_title='Date', yaxis_title='kV')\n",
    "fig.show()"
   ]
  },
  {
   "cell_type": "code",
   "execution_count": null,
   "id": "5a95f0b8-0b1e-4d35-978b-7042582c60fc",
   "metadata": {},
   "outputs": [],
   "source": []
  },
  {
   "cell_type": "code",
   "execution_count": null,
   "id": "4e7112df-0f50-44c9-b012-001d66355bcc",
   "metadata": {},
   "outputs": [],
   "source": []
  }
 ],
 "metadata": {
  "kernelspec": {
   "display_name": "edh_venv",
   "language": "python",
   "name": "edh_venv"
  },
  "language_info": {
   "codemirror_mode": {
    "name": "ipython",
    "version": 3
   },
   "file_extension": ".py",
   "mimetype": "text/x-python",
   "name": "python",
   "nbconvert_exporter": "python",
   "pygments_lexer": "ipython3",
   "version": "3.11.5"
  }
 },
 "nbformat": 4,
 "nbformat_minor": 5
}
