{
 "cells": [
  {
   "cell_type": "code",
   "execution_count": 1,
   "id": "8de9e849-6a8b-4f9d-ad7d-46b14ad37401",
   "metadata": {},
   "outputs": [],
   "source": [
    "%load_ext autoreload\n",
    "%autoreload 2\n",
    "from utils import feature_eng, visualization\n",
    "# plot the reward function with plotly as line plot\n",
    "import plotly.io as pio\n",
    "import numpy as np\n",
    "import plotly.graph_objs as go\n",
    "import pmdarima as pm\n",
    "from pmdarima.model_selection import train_test_split\n",
    "import numpy as np\n",
    "import matplotlib.pyplot as plt\n",
    "from plotly.subplots import make_subplots\n",
    "import pandas as pd\n",
    "\n",
    "from utils import eval"
   ]
  },
  {
   "cell_type": "code",
   "execution_count": 17,
   "id": "5f8de958-d774-4771-b07f-57d56d111d2f",
   "metadata": {
    "editable": true,
    "slideshow": {
     "slide_type": ""
    },
    "tags": []
   },
   "outputs": [
    {
     "data": {
      "text/html": [
       "<iframe\n",
       "    scrolling=\"no\"\n",
       "    width=\"100%\"\n",
       "    height=\"545px\"\n",
       "    src=\"iframe_figures/figure_17.html\"\n",
       "    frameborder=\"0\"\n",
       "    allowfullscreen\n",
       "></iframe>\n"
      ]
     },
     "metadata": {},
     "output_type": "display_data"
    }
   ],
   "source": [
    "pio.renderers.default = 'iframe'\n",
    "\n",
    "measurements = feature_eng.get_data_df(\"train\", \"B\")\n",
    "fig = visualization.plot_substation_measurements(measurements, \"B\")\n",
    "fig.show()"
   ]
  },
  {
   "cell_type": "code",
   "execution_count": 3,
   "id": "141870f6-2773-4243-b686-8fd96b8b51ee",
   "metadata": {},
   "outputs": [
    {
     "data": {
      "text/html": [
       "<iframe\n",
       "    scrolling=\"no\"\n",
       "    width=\"100%\"\n",
       "    height=\"545px\"\n",
       "    src=\"iframe_figures/figure_3.html\"\n",
       "    frameborder=\"0\"\n",
       "    allowfullscreen\n",
       "></iframe>\n"
      ]
     },
     "metadata": {},
     "output_type": "display_data"
    }
   ],
   "source": [
    "fig = visualization.plot_production(measurements, ['ZLQZLQSPHSDL_VNUUIST'])\n",
    "fig.show()"
   ]
  },
  {
   "cell_type": "code",
   "execution_count": 10,
   "id": "d2602b89-a4fb-435f-8c21-1220938eda24",
   "metadata": {
    "editable": true,
    "slideshow": {
     "slide_type": ""
    },
    "tags": []
   },
   "outputs": [
    {
     "name": "stdout",
     "output_type": "stream",
     "text": [
      "fertig\n"
     ]
    }
   ],
   "source": [
    "is_data = measurements['ZLQZLQSPHSDL_VNUUIST']\n",
    "target_data = measurements['ZLQZLQSPHSDL_VNUUSOL']\n",
    "shunt_reactor = measurements['ZLQZLQ110KOMDROQ']\n",
    "station_b_val = feature_eng.add_temporal_features(feature_eng.get_data_df(\"val\", \"B\"))\n",
    "\n",
    "cut_off = 4 * 24 * 8 + 10\n",
    "reactor_border = 20\n",
    "\n",
    "train, test = train_test_split(is_data[:-cut_off].values, train_size=len(is_data[:-cut_off])-1)\n",
    "\n",
    "model = pm.ARIMA(order=(2, 1, 2), seasonal_order=(1, 0, 1, 4))\n",
    "print(\"fertig\")\n"
   ]
  },
  {
   "cell_type": "code",
   "execution_count": 15,
   "id": "49b08e79-c1f3-48de-a4c1-8dc1e50f2b77",
   "metadata": {},
   "outputs": [
    {
     "name": "stdout",
     "output_type": "stream",
     "text": [
      "34162\n",
      "34162\n"
     ]
    },
    {
     "name": "stderr",
     "output_type": "stream",
     "text": [
      "C:\\_dev\\edh2023\\.venv\\Lib\\site-packages\\statsmodels\\base\\model.py:607: ConvergenceWarning:\n",
      "\n",
      "Maximum Likelihood optimization failed to converge. Check mle_retvals\n",
      "\n"
     ]
    },
    {
     "name": "stdout",
     "output_type": "stream",
     "text": [
      "fertig\n"
     ]
    }
   ],
   "source": [
    "# measurement points are separated by 15 minutes. 4 to get to one hour.\n",
    "time = 4\n",
    "loops = 1\n",
    "\n",
    "predictions = []\n",
    "for i in range(loops):\n",
    "    train, test = train_test_split(is_data[:-cut_off-i].values, train_size=len(is_data[:-cut_off-i])-1)\n",
    "    print(len(train))\n",
    "    print(len(pd.DataFrame(shunt_reactor[:-cut_off-i-1])))\n",
    "    model_fit = model.fit(y=train, X=pd.DataFrame(shunt_reactor[:-cut_off-i-1]))\n",
    "print(\"fertig\")"
   ]
  },
  {
   "cell_type": "code",
   "execution_count": null,
   "id": "9e873d73-c63a-4e9f-95d6-26539e9de97e",
   "metadata": {},
   "outputs": [],
   "source": [
    "for i in range(len(station_b_val)-1):\n",
    "    # Simulate with shunt reactor running\n",
    "    preds_reactor_on = model_fit.predict(time, pd.DataFrame(np.full(time, 90)))\n",
    "\n",
    "    # Simulate with shunt reactor off\n",
    "    preds_reactor_off = model_fit.predict(time, pd.DataFrame(np.full(time, 0)))\n",
    "    predictions.append(preds_reactor_on)\n",
    "    predictions.append(preds_reactor_off)\n",
    "    station_b_val['ZLQZLQ110KOMDROQ'][i]."
   ]
  },
  {
   "cell_type": "code",
   "execution_count": 16,
   "id": "900d9429-bb79-4554-9515-85c71aab642d",
   "metadata": {
    "editable": true,
    "slideshow": {
     "slide_type": ""
    },
    "tags": []
   },
   "outputs": [
    {
     "name": "stdout",
     "output_type": "stream",
     "text": [
      "2022-01-01 01:00:00    239.816895\n",
      "2022-01-01 01:15:00    239.816895\n",
      "2022-01-01 01:30:00    239.868171\n",
      "2022-01-01 01:45:00    240.080566\n",
      "2022-01-01 02:00:00    240.080566\n",
      "                          ...    \n",
      "2022-12-30 23:00:00    239.553207\n",
      "2022-12-30 23:15:00    240.323946\n",
      "2022-12-30 23:30:00    240.476089\n",
      "2022-12-30 23:45:00    240.476089\n",
      "2022-12-31 00:00:00    240.476089\n",
      "Freq: 15T, Name: ZLQZLQSPHSDL_VNUUIST, Length: 34941, dtype: float64\n",
      "2022-12-22 21:45:00    239.138830\n",
      "2022-12-22 22:00:00    239.116199\n",
      "2022-12-22 22:15:00    239.091907\n",
      "2022-12-22 22:30:00    239.070673\n",
      "2022-12-22 22:45:00    239.050327\n",
      "2022-12-22 23:00:00    239.032494\n",
      "2022-12-22 23:15:00    239.016260\n",
      "2022-12-22 23:30:00           NaN\n",
      "Freq: 15T, dtype: float64\n"
     ]
    },
    {
     "data": {
      "text/html": [
       "<iframe\n",
       "    scrolling=\"no\"\n",
       "    width=\"100%\"\n",
       "    height=\"545px\"\n",
       "    src=\"iframe_figures/figure_16.html\"\n",
       "    frameborder=\"0\"\n",
       "    allowfullscreen\n",
       "></iframe>\n"
      ]
     },
     "metadata": {},
     "output_type": "display_data"
    }
   ],
   "source": [
    "predicted_datas = []\n",
    "\n",
    "for i in range(loops):\n",
    "    last_element = is_data.index[len(is_data)-cut_off-i]\n",
    "    predicted_data = pd.Series(predictions[i*2], index=pd.date_range(last_element, periods=(time), freq='15T'))\n",
    "    predicted_datas.append(predicted_data)\n",
    "    predicted_data = pd.Series(predictions[i*2+1], index=pd.date_range(last_element, periods=(time), freq='15T'))\n",
    "    predicted_datas.append(predicted_data)\n",
    "\n",
    "print(is_data)\n",
    "print(predicted_data)\n",
    "\n",
    "is_reactor_running = shunt_reactor[:-cut_off] > 20\n",
    "\n",
    "\n",
    "\n",
    "# calculate reward points achieved for the validation dataset\n",
    "reward_base = eval.reward_sum(\n",
    "    station_b_val[\"ZLQZLQSPHSDL_VNUUIST\"].values - station_b_val[\"ZLQZLQSPHSDL_VNUUSOL\"].values, \n",
    "    (station_b_val['ZLQZLQ110KOMDROQ'] > 1.0).values, \n",
    "    weighing_factors=np.ones(station_b_val.shape[0]))\n",
    "print(f'Reward achieved by operating the shunt reactor as in the validation dataset: {reward_base}.')\n",
    "\n",
    "\n",
    "if (\n",
    "\n",
    "scatters = []\n",
    "scatters.append(go.Scatter(x=is_data.index, y=is_data, name=\"IST\"))\n",
    "\n",
    "for i in range(loops):\n",
    "    scatters.append(go.Scatter(x=predicted_datas[i*2].index, y=predicted_datas[i*2], name=\"PREDICT ON \"+str(i)))\n",
    "    scatters.append(go.Scatter(x=predicted_datas[i*2+1].index, y=predicted_datas[i*2+1], name=\"PREDICT OFF \"+str(i)))\n",
    "\n",
    "fig = go.Figure(data=scatters)\n",
    "\n",
    "# Update the layout\n",
    "fig.update_layout(title=\"Nice\", xaxis_title='Date', yaxis_title='kV')\n",
    "fig.show()"
   ]
  },
  {
   "cell_type": "code",
   "execution_count": null,
   "id": "5a95f0b8-0b1e-4d35-978b-7042582c60fc",
   "metadata": {},
   "outputs": [],
   "source": []
  },
  {
   "cell_type": "code",
   "execution_count": null,
   "id": "4e7112df-0f50-44c9-b012-001d66355bcc",
   "metadata": {},
   "outputs": [],
   "source": []
  }
 ],
 "metadata": {
  "kernelspec": {
   "display_name": "edh_venv",
   "language": "python",
   "name": "edh_venv"
  },
  "language_info": {
   "codemirror_mode": {
    "name": "ipython",
    "version": 3
   },
   "file_extension": ".py",
   "mimetype": "text/x-python",
   "name": "python",
   "nbconvert_exporter": "python",
   "pygments_lexer": "ipython3",
   "version": "3.11.5"
  }
 },
 "nbformat": 4,
 "nbformat_minor": 5
}
