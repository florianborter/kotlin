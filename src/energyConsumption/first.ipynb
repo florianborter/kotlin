{
 "cells": [
  {
   "cell_type": "code",
   "execution_count": 2,
   "id": "8de9e849-6a8b-4f9d-ad7d-46b14ad37401",
   "metadata": {},
   "outputs": [
    {
     "name": "stdout",
     "output_type": "stream",
     "text": [
      "The autoreload extension is already loaded. To reload it, use:\n",
      "  %reload_ext autoreload\n"
     ]
    }
   ],
   "source": [
    "%load_ext autoreload\n",
    "%autoreload 2\n",
    "from utils import feature_eng, visualization\n",
    "# plot the reward function with plotly as line plot\n",
    "import plotly.io as pio\n",
    "import numpy as np\n",
    "import plotly.graph_objs as go\n",
    "import pmdarima as pm\n",
    "from pmdarima.model_selection import train_test_split\n",
    "import numpy as np\n",
    "import matplotlib.pyplot as plt\n",
    "from plotly.subplots import make_subplots\n",
    "import pandas as pd\n",
    "\n",
    "from utils import eval"
   ]
  },
  {
   "cell_type": "code",
   "execution_count": 3,
   "id": "5f8de958-d774-4771-b07f-57d56d111d2f",
   "metadata": {
    "editable": true,
    "slideshow": {
     "slide_type": ""
    },
    "tags": []
   },
   "outputs": [
    {
     "data": {
      "text/html": [
       "<iframe\n",
       "    scrolling=\"no\"\n",
       "    width=\"100%\"\n",
       "    height=\"545px\"\n",
       "    src=\"iframe_figures/figure_3.html\"\n",
       "    frameborder=\"0\"\n",
       "    allowfullscreen\n",
       "></iframe>\n"
      ]
     },
     "metadata": {},
     "output_type": "display_data"
    }
   ],
   "source": [
    "\n",
    "\n",
    "pio.renderers.default = 'iframe'\n",
    "\n",
    "measurements = feature_eng.get_data_df(\"train\", \"B\")\n",
    "fig = visualization.plot_substation_measurements(measurements, \"B\")\n",
    "fig.show()"
   ]
  },
  {
   "cell_type": "code",
   "execution_count": 4,
   "id": "141870f6-2773-4243-b686-8fd96b8b51ee",
   "metadata": {},
   "outputs": [
    {
     "data": {
      "text/html": [
       "<iframe\n",
       "    scrolling=\"no\"\n",
       "    width=\"100%\"\n",
       "    height=\"545px\"\n",
       "    src=\"iframe_figures/figure_4.html\"\n",
       "    frameborder=\"0\"\n",
       "    allowfullscreen\n",
       "></iframe>\n"
      ]
     },
     "metadata": {},
     "output_type": "display_data"
    }
   ],
   "source": [
    "fig = visualization.plot_production(measurements, ['ZLQZLQSPHSDL_VNUUIST'])\n",
    "fig.show()"
   ]
  },
  {
   "cell_type": "code",
   "execution_count": null,
   "id": "d2602b89-a4fb-435f-8c21-1220938eda24",
   "metadata": {
    "editable": true,
    "slideshow": {
     "slide_type": ""
    },
    "tags": []
   },
   "outputs": [
    {
     "name": "stdout",
     "output_type": "stream",
     "text": [
      "Performing stepwise search to minimize aic\n",
      " ARIMA(2,1,2)(1,0,1)[12] intercept   : AIC=15486.978, Time=152.90 sec\n",
      " ARIMA(0,1,0)(0,0,0)[12] intercept   : AIC=17716.942, Time=1.41 sec\n",
      " ARIMA(1,1,0)(1,0,0)[12] intercept   : AIC=16504.921, Time=14.67 sec\n",
      " ARIMA(0,1,1)(0,0,1)[12] intercept   : AIC=16227.781, Time=18.80 sec\n",
      " ARIMA(0,1,0)(0,0,0)[12]             : AIC=17714.942, Time=0.57 sec\n",
      " ARIMA(2,1,2)(0,0,1)[12] intercept   : AIC=15561.111, Time=141.53 sec\n",
      " ARIMA(2,1,2)(1,0,0)[12] intercept   : AIC=15533.600, Time=2223.38 sec\n",
      " ARIMA(2,1,2)(2,0,1)[12] intercept   : AIC=15551.585, Time=1241.35 sec\n",
      " ARIMA(2,1,2)(1,0,2)[12] intercept   : AIC=15558.784, Time=252.64 sec\n",
      " ARIMA(2,1,2)(0,0,0)[12] intercept   : AIC=15340.092, Time=21.37 sec\n",
      " ARIMA(1,1,2)(0,0,0)[12] intercept   : AIC=15315.236, Time=20.67 sec\n",
      " ARIMA(1,1,2)(1,0,0)[12] intercept   : AIC=15317.113, Time=109.70 sec\n",
      " ARIMA(1,1,2)(0,0,1)[12] intercept   : AIC=15458.962, Time=109.49 sec\n",
      " ARIMA(1,1,2)(1,0,1)[12] intercept   : AIC=15307.254, Time=140.36 sec\n",
      " ARIMA(1,1,2)(2,0,1)[12] intercept   : AIC=15349.978, Time=225.18 sec\n",
      " ARIMA(1,1,2)(1,0,2)[12] intercept   : AIC=15431.382, Time=227.05 sec\n",
      " ARIMA(1,1,2)(0,0,2)[12] intercept   : AIC=15331.675, Time=204.34 sec\n",
      " ARIMA(1,1,2)(2,0,0)[12] intercept   : AIC=15310.549, Time=196.86 sec\n",
      " ARIMA(1,1,2)(2,0,2)[12] intercept   : AIC=15383.019, Time=413.64 sec\n",
      " ARIMA(0,1,2)(1,0,1)[12] intercept   : AIC=16079.554, Time=28.61 sec\n",
      " ARIMA(1,1,1)(1,0,1)[12] intercept   : AIC=16130.376, Time=38.75 sec\n"
     ]
    }
   ],
   "source": [
    "ist_data = measurements['ZLQZLQSPHSDL_VNUUIST']\n",
    "\n",
    "train, test = train_test_split(ist_data.values, train_size=len(ist_data)-1)\n",
    "\n",
    "model = pm.auto_arima(train, trace=True, m=12)\n",
    "print(\"fertig\")\n"
   ]
  },
  {
   "cell_type": "code",
   "execution_count": 43,
   "id": "353dd326-4174-4e94-9cd7-d433a61f5878",
   "metadata": {},
   "outputs": [],
   "source": [
    "time = 6 * 4\n",
    "preds = model.predict(time)"
   ]
  },
  {
   "cell_type": "code",
   "execution_count": 45,
   "id": "900d9429-bb79-4554-9515-85c71aab642d",
   "metadata": {
    "editable": true,
    "slideshow": {
     "slide_type": ""
    },
    "tags": []
   },
   "outputs": [
    {
     "name": "stdout",
     "output_type": "stream",
     "text": [
      "34941\n",
      "24\n",
      "2022-01-01 01:00:00    239.816895\n",
      "2022-01-01 01:15:00    239.816895\n",
      "2022-01-01 01:30:00    239.868171\n",
      "2022-01-01 01:45:00    240.080566\n",
      "2022-01-01 02:00:00    240.080566\n",
      "                          ...    \n",
      "2022-12-30 23:00:00    239.553207\n",
      "2022-12-30 23:15:00    240.323946\n",
      "2022-12-30 23:30:00    240.476089\n",
      "2022-12-30 23:45:00    240.476089\n",
      "2022-12-31 00:00:00    240.476089\n",
      "Freq: 15T, Name: ZLQZLQSPHSDL_VNUUIST, Length: 34941, dtype: float64\n",
      "2022-12-31 00:00:00    240.753064\n",
      "2022-12-31 00:15:00    240.717438\n",
      "2022-12-31 00:30:00    240.688177\n",
      "2022-12-31 00:45:00    240.662035\n",
      "2022-12-31 01:00:00    240.638795\n",
      "2022-12-31 01:15:00    240.618129\n",
      "2022-12-31 01:30:00    240.599753\n",
      "2022-12-31 01:45:00    240.583412\n",
      "2022-12-31 02:00:00    240.568881\n",
      "2022-12-31 02:15:00    240.555959\n",
      "2022-12-31 02:30:00    240.544467\n",
      "2022-12-31 02:45:00    240.534249\n",
      "2022-12-31 03:00:00    240.525161\n",
      "2022-12-31 03:15:00    240.517079\n",
      "2022-12-31 03:30:00    240.509892\n",
      "2022-12-31 03:45:00    240.503499\n",
      "2022-12-31 04:00:00    240.497814\n",
      "2022-12-31 04:15:00    240.492757\n",
      "2022-12-31 04:30:00    240.488260\n",
      "2022-12-31 04:45:00    240.484259\n",
      "2022-12-31 05:00:00    240.480700\n",
      "2022-12-31 05:15:00    240.477535\n",
      "2022-12-31 05:30:00    240.474718\n",
      "2022-12-31 05:45:00    240.472213\n",
      "Freq: 15T, dtype: float64\n"
     ]
    },
    {
     "data": {
      "text/html": [
       "<iframe\n",
       "    scrolling=\"no\"\n",
       "    width=\"100%\"\n",
       "    height=\"545px\"\n",
       "    src=\"iframe_figures/figure_45.html\"\n",
       "    frameborder=\"0\"\n",
       "    allowfullscreen\n",
       "></iframe>\n"
      ]
     },
     "metadata": {},
     "output_type": "display_data"
    }
   ],
   "source": [
    "print(len(ist_data))\n",
    "print(len(preds))\n",
    "\n",
    "last_element = ist_data.index[-1]\n",
    "predicted_data = pd.Series(preds, index=pd.date_range(last_element, periods=(time), freq='15T'))\n",
    "\n",
    "print(ist_data)\n",
    "print(predicted_data)\n",
    "\n",
    "fig = go.Figure(data=[go.Scatter(x=predicted_data.index, y=predicted_data, name=\"PREDICT\"),\n",
    "                      go.Scatter(x=ist_data.index, y=ist_data, name=\"IST\")])\n",
    "\n",
    "# Update the layout\n",
    "fig.update_layout(title=\"asd\", xaxis_title='Date', yaxis_title='Power (MW)')\n",
    "fig.show()"
   ]
  },
  {
   "cell_type": "code",
   "execution_count": null,
   "id": "4e7112df-0f50-44c9-b012-001d66355bcc",
   "metadata": {},
   "outputs": [],
   "source": []
  }
 ],
 "metadata": {
  "kernelspec": {
   "display_name": "edh_venv",
   "language": "python",
   "name": "edh_venv"
  },
  "language_info": {
   "codemirror_mode": {
    "name": "ipython",
    "version": 3
   },
   "file_extension": ".py",
   "mimetype": "text/x-python",
   "name": "python",
   "nbconvert_exporter": "python",
   "pygments_lexer": "ipython3",
   "version": "3.11.5"
  }
 },
 "nbformat": 4,
 "nbformat_minor": 5
}
