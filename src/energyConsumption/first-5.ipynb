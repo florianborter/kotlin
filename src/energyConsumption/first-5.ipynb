{
 "cells": [
  {
   "cell_type": "code",
   "execution_count": 1,
   "id": "8de9e849-6a8b-4f9d-ad7d-46b14ad37401",
   "metadata": {},
   "outputs": [],
   "source": [
    "%load_ext autoreload\n",
    "%autoreload 2\n",
    "from utils import feature_eng, visualization\n",
    "# plot the reward function with plotly as line plot\n",
    "import plotly.io as pio\n",
    "import numpy as np\n",
    "import plotly.graph_objs as go\n",
    "import pmdarima as pm\n",
    "from pmdarima.model_selection import train_test_split\n",
    "import numpy as np\n",
    "import matplotlib.pyplot as plt\n",
    "from plotly.subplots import make_subplots\n",
    "import pandas as pd\n",
    "\n",
    "from utils import eval"
   ]
  },
  {
   "cell_type": "code",
   "execution_count": 8,
   "id": "5f8de958-d774-4771-b07f-57d56d111d2f",
   "metadata": {
    "editable": true,
    "slideshow": {
     "slide_type": ""
    },
    "tags": []
   },
   "outputs": [
    {
     "data": {
      "text/html": [
       "<iframe\n",
       "    scrolling=\"no\"\n",
       "    width=\"100%\"\n",
       "    height=\"545px\"\n",
       "    src=\"iframe_figures/figure_8.html\"\n",
       "    frameborder=\"0\"\n",
       "    allowfullscreen\n",
       "></iframe>\n"
      ]
     },
     "metadata": {},
     "output_type": "display_data"
    }
   ],
   "source": [
    "pio.renderers.default = 'iframe'\n",
    "\n",
    "measurements = feature_eng.get_data_df(\"train\", \"B\")\n",
    "fig = visualization.plot_substation_measurements(measurements, \"B\")\n",
    "fig.show()"
   ]
  },
  {
   "cell_type": "code",
   "execution_count": 9,
   "id": "141870f6-2773-4243-b686-8fd96b8b51ee",
   "metadata": {},
   "outputs": [
    {
     "data": {
      "text/html": [
       "<iframe\n",
       "    scrolling=\"no\"\n",
       "    width=\"100%\"\n",
       "    height=\"545px\"\n",
       "    src=\"iframe_figures/figure_9.html\"\n",
       "    frameborder=\"0\"\n",
       "    allowfullscreen\n",
       "></iframe>\n"
      ]
     },
     "metadata": {},
     "output_type": "display_data"
    }
   ],
   "source": [
    "fig = visualization.plot_production(measurements, ['ZLQZLQSPHSDL_VNUUIST'])\n",
    "fig.show()"
   ]
  },
  {
   "cell_type": "code",
   "execution_count": 11,
   "id": "d2602b89-a4fb-435f-8c21-1220938eda24",
   "metadata": {
    "editable": true,
    "slideshow": {
     "slide_type": ""
    },
    "tags": []
   },
   "outputs": [
    {
     "name": "stdout",
     "output_type": "stream",
     "text": [
      "fertig\n"
     ]
    }
   ],
   "source": [
    "is_data = measurements['ZLQZLQSPHSDL_VNUUIST']\n",
    "target_data = measurements['ZLQZLQSPHSDL_VNUUSOL']\n",
    "shunt_reactor = measurements['ZLQZLQ110KOMDROQ']\n",
    "\n",
    "cut_off = 4 * 24 * 8\n",
    "reactor_border = 20\n",
    "\n",
    "train, test = train_test_split(is_data[:-cut_off].values, train_size=len(is_data[:-cut_off])-1)\n",
    "\n",
    "model = pm.ARIMA(order=(2, 1, 2), seasonal_order=(1, 0, 1, 4))\n",
    "print(\"fertig\")\n"
   ]
  },
  {
   "cell_type": "code",
   "execution_count": 46,
   "id": "49b08e79-c1f3-48de-a4c1-8dc1e50f2b77",
   "metadata": {},
   "outputs": [
    {
     "name": "stdout",
     "output_type": "stream",
     "text": [
      "34172\n",
      "34172\n"
     ]
    },
    {
     "name": "stderr",
     "output_type": "stream",
     "text": [
      "C:\\_dev\\edh2023\\.venv\\Lib\\site-packages\\statsmodels\\base\\model.py:607: ConvergenceWarning:\n",
      "\n",
      "Maximum Likelihood optimization failed to converge. Check mle_retvals\n",
      "\n"
     ]
    },
    {
     "name": "stdout",
     "output_type": "stream",
     "text": [
      "34171\n",
      "34171\n"
     ]
    },
    {
     "name": "stderr",
     "output_type": "stream",
     "text": [
      "C:\\_dev\\edh2023\\.venv\\Lib\\site-packages\\statsmodels\\base\\model.py:607: ConvergenceWarning:\n",
      "\n",
      "Maximum Likelihood optimization failed to converge. Check mle_retvals\n",
      "\n"
     ]
    },
    {
     "name": "stdout",
     "output_type": "stream",
     "text": [
      "fertig\n"
     ]
    }
   ],
   "source": [
    "# measurement points are separated by 15 minutes. *4 to get to one hour.\n",
    "time = 4 * 4\n",
    "loops = 2\n",
    "\n",
    "predictions = []\n",
    "for i in range(loops):\n",
    "    train, test = train_test_split(is_data[:-cut_off-i].values, train_size=len(is_data[:-cut_off-i])-1)\n",
    "    print(len(train))\n",
    "    print(len(pd.DataFrame(shunt_reactor[:-cut_off-i-1])))\n",
    "    model_fit = model.fit(y=train, X=pd.DataFrame(shunt_reactor[:-cut_off-i-1]))\n",
    "    preds = model_fit.predict(time, pd.DataFrame(shunt_reactor[0:16]))\n",
    "    predictions.append(preds)\n",
    "print(\"fertig\")"
   ]
  },
  {
   "cell_type": "code",
   "execution_count": 48,
   "id": "900d9429-bb79-4554-9515-85c71aab642d",
   "metadata": {
    "editable": true,
    "slideshow": {
     "slide_type": ""
    },
    "tags": []
   },
   "outputs": [
    {
     "name": "stdout",
     "output_type": "stream",
     "text": [
      "34941\n",
      "16\n",
      "2022-01-01 01:00:00    239.816895\n",
      "2022-01-01 01:15:00    239.816895\n",
      "2022-01-01 01:30:00    239.868171\n",
      "2022-01-01 01:45:00    240.080566\n",
      "2022-01-01 02:00:00    240.080566\n",
      "                          ...    \n",
      "2022-12-30 23:00:00    239.553207\n",
      "2022-12-30 23:15:00    240.323946\n",
      "2022-12-30 23:30:00    240.476089\n",
      "2022-12-30 23:45:00    240.476089\n",
      "2022-12-31 00:00:00    240.476089\n",
      "Freq: 15T, Name: ZLQZLQSPHSDL_VNUUIST, Length: 34941, dtype: float64\n",
      "2022-12-23 00:00:00    240.324815\n",
      "2022-12-23 00:15:00    240.262650\n",
      "2022-12-23 00:30:00    240.206112\n",
      "2022-12-23 00:45:00    240.151141\n",
      "2022-12-23 01:00:00    240.103284\n",
      "2022-12-23 01:15:00    240.059497\n",
      "2022-12-23 01:30:00    240.020513\n",
      "2022-12-23 01:45:00    239.985438\n",
      "2022-12-23 02:00:00    239.953905\n",
      "2022-12-23 02:15:00    239.925554\n",
      "2022-12-23 02:30:00    239.900056\n",
      "2022-12-23 02:45:00    239.877127\n",
      "2022-12-23 03:00:00    239.856508\n",
      "2022-12-23 03:15:00    239.837967\n",
      "2022-12-23 03:30:00    239.821293\n",
      "2022-12-23 03:45:00           NaN\n",
      "Freq: 15T, dtype: float64\n"
     ]
    },
    {
     "data": {
      "text/html": [
       "<iframe\n",
       "    scrolling=\"no\"\n",
       "    width=\"100%\"\n",
       "    height=\"545px\"\n",
       "    src=\"iframe_figures/figure_48.html\"\n",
       "    frameborder=\"0\"\n",
       "    allowfullscreen\n",
       "></iframe>\n"
      ]
     },
     "metadata": {},
     "output_type": "display_data"
    }
   ],
   "source": [
    "print(len(is_data))\n",
    "print(len(preds))\n",
    "\n",
    "predicted_datas = []\n",
    "\n",
    "for i in range(loops):\n",
    "    last_element = is_data.index[len(is_data)-cut_off-i]\n",
    "    predicted_data = pd.Series(predictions[i], index=pd.date_range(last_element, periods=(time), freq='15T'))\n",
    "    predicted_datas.append(predicted_data)\n",
    "\n",
    "print(is_data)\n",
    "print(predicted_data)\n",
    "\n",
    "is_reactor_running = shunt_reactor[-1] > 20\n",
    "\n",
    "scatters = []\n",
    "scatters.append(go.Scatter(x=is_data.index, y=is_data, name=\"IST\"))\n",
    "\n",
    "for i in range(loops):\n",
    "    scatters.append(go.Scatter(x=predicted_datas[i].index, y=predicted_datas[i], name=\"PREDICT\"+str(i)))\n",
    "\n",
    "fig = go.Figure(data=scatters)\n",
    "\n",
    "# Update the layout\n",
    "fig.update_layout(title=\"Nice\", xaxis_title='Date', yaxis_title='kV')\n",
    "fig.show()"
   ]
  },
  {
   "cell_type": "code",
   "execution_count": null,
   "id": "4e7112df-0f50-44c9-b012-001d66355bcc",
   "metadata": {},
   "outputs": [],
   "source": []
  }
 ],
 "metadata": {
  "kernelspec": {
   "display_name": "edh_venv",
   "language": "python",
   "name": "edh_venv"
  },
  "language_info": {
   "codemirror_mode": {
    "name": "ipython",
    "version": 3
   },
   "file_extension": ".py",
   "mimetype": "text/x-python",
   "name": "python",
   "nbconvert_exporter": "python",
   "pygments_lexer": "ipython3",
   "version": "3.11.5"
  }
 },
 "nbformat": 4,
 "nbformat_minor": 5
}
